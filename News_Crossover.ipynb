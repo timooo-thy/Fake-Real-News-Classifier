{
 "cells": [
  {
   "cell_type": "code",
   "execution_count": 1,
   "id": "ceb4fe74",
   "metadata": {},
   "outputs": [],
   "source": [
    "#We import the relevant libraries\n",
    "import numpy as np\n",
    "import pandas as pd\n",
    "import seaborn as sb\n",
    "import matplotlib.pyplot as plt\n",
    "import string\n",
    "import sys  \n",
    "from datetime import datetime"
   ]
  },
  {
   "cell_type": "code",
   "execution_count": 2,
   "id": "959afe10",
   "metadata": {},
   "outputs": [
    {
     "data": {
      "text/html": [
       "<div>\n",
       "<style scoped>\n",
       "    .dataframe tbody tr th:only-of-type {\n",
       "        vertical-align: middle;\n",
       "    }\n",
       "\n",
       "    .dataframe tbody tr th {\n",
       "        vertical-align: top;\n",
       "    }\n",
       "\n",
       "    .dataframe thead th {\n",
       "        text-align: right;\n",
       "    }\n",
       "</style>\n",
       "<table border=\"1\" class=\"dataframe\">\n",
       "  <thead>\n",
       "    <tr style=\"text-align: right;\">\n",
       "      <th></th>\n",
       "      <th>Unnamed: 0</th>\n",
       "      <th>title</th>\n",
       "      <th>text</th>\n",
       "      <th>label</th>\n",
       "    </tr>\n",
       "  </thead>\n",
       "  <tbody>\n",
       "    <tr>\n",
       "      <th>0</th>\n",
       "      <td>0</td>\n",
       "      <td>LAW ENFORCEMENT ON HIGH ALERT Following Threat...</td>\n",
       "      <td>No comment is expected from Barack Obama Membe...</td>\n",
       "      <td>1</td>\n",
       "    </tr>\n",
       "    <tr>\n",
       "      <th>1</th>\n",
       "      <td>1</td>\n",
       "      <td>NaN</td>\n",
       "      <td>Did they post their votes for Hillary already?</td>\n",
       "      <td>1</td>\n",
       "    </tr>\n",
       "    <tr>\n",
       "      <th>2</th>\n",
       "      <td>2</td>\n",
       "      <td>UNBELIEVABLE! OBAMA’S ATTORNEY GENERAL SAYS MO...</td>\n",
       "      <td>Now, most of the demonstrators gathered last ...</td>\n",
       "      <td>1</td>\n",
       "    </tr>\n",
       "    <tr>\n",
       "      <th>3</th>\n",
       "      <td>3</td>\n",
       "      <td>Bobby Jindal, raised Hindu, uses story of Chri...</td>\n",
       "      <td>A dozen politically active pastors came here f...</td>\n",
       "      <td>0</td>\n",
       "    </tr>\n",
       "    <tr>\n",
       "      <th>4</th>\n",
       "      <td>4</td>\n",
       "      <td>SATAN 2: Russia unvelis an image of its terrif...</td>\n",
       "      <td>The RS-28 Sarmat missile, dubbed Satan 2, will...</td>\n",
       "      <td>1</td>\n",
       "    </tr>\n",
       "    <tr>\n",
       "      <th>5</th>\n",
       "      <td>5</td>\n",
       "      <td>About Time! Christian Group Sues Amazon and SP...</td>\n",
       "      <td>All we can say on this one is it s about time ...</td>\n",
       "      <td>1</td>\n",
       "    </tr>\n",
       "    <tr>\n",
       "      <th>6</th>\n",
       "      <td>6</td>\n",
       "      <td>DR BEN CARSON TARGETED BY THE IRS: “I never ha...</td>\n",
       "      <td>DR. BEN CARSON TELLS THE STORY OF WHAT HAPPENE...</td>\n",
       "      <td>1</td>\n",
       "    </tr>\n",
       "    <tr>\n",
       "      <th>7</th>\n",
       "      <td>7</td>\n",
       "      <td>HOUSE INTEL CHAIR On Trump-Russia Fake Story: ...</td>\n",
       "      <td></td>\n",
       "      <td>1</td>\n",
       "    </tr>\n",
       "    <tr>\n",
       "      <th>8</th>\n",
       "      <td>8</td>\n",
       "      <td>Sports Bar Owner Bans NFL Games…Will Show Only...</td>\n",
       "      <td>The owner of the Ringling Bar, located south o...</td>\n",
       "      <td>1</td>\n",
       "    </tr>\n",
       "    <tr>\n",
       "      <th>9</th>\n",
       "      <td>9</td>\n",
       "      <td>Latest Pipeline Leak Underscores Dangers Of Da...</td>\n",
       "      <td>FILE – In this Sept. 15, 2005 file photo, the ...</td>\n",
       "      <td>1</td>\n",
       "    </tr>\n",
       "  </tbody>\n",
       "</table>\n",
       "</div>"
      ],
      "text/plain": [
       "   Unnamed: 0                                              title  \\\n",
       "0           0  LAW ENFORCEMENT ON HIGH ALERT Following Threat...   \n",
       "1           1                                                NaN   \n",
       "2           2  UNBELIEVABLE! OBAMA’S ATTORNEY GENERAL SAYS MO...   \n",
       "3           3  Bobby Jindal, raised Hindu, uses story of Chri...   \n",
       "4           4  SATAN 2: Russia unvelis an image of its terrif...   \n",
       "5           5  About Time! Christian Group Sues Amazon and SP...   \n",
       "6           6  DR BEN CARSON TARGETED BY THE IRS: “I never ha...   \n",
       "7           7  HOUSE INTEL CHAIR On Trump-Russia Fake Story: ...   \n",
       "8           8  Sports Bar Owner Bans NFL Games…Will Show Only...   \n",
       "9           9  Latest Pipeline Leak Underscores Dangers Of Da...   \n",
       "\n",
       "                                                text  label  \n",
       "0  No comment is expected from Barack Obama Membe...      1  \n",
       "1     Did they post their votes for Hillary already?      1  \n",
       "2   Now, most of the demonstrators gathered last ...      1  \n",
       "3  A dozen politically active pastors came here f...      0  \n",
       "4  The RS-28 Sarmat missile, dubbed Satan 2, will...      1  \n",
       "5  All we can say on this one is it s about time ...      1  \n",
       "6  DR. BEN CARSON TELLS THE STORY OF WHAT HAPPENE...      1  \n",
       "7                                                         1  \n",
       "8  The owner of the Ringling Bar, located south o...      1  \n",
       "9  FILE – In this Sept. 15, 2005 file photo, the ...      1  "
      ]
     },
     "execution_count": 2,
     "metadata": {},
     "output_type": "execute_result"
    }
   ],
   "source": [
    "#Next we import the relevant csv file for analysis and display it\n",
    "news = pd.read_csv('news_v2.csv')\n",
    "news.head(10)"
   ]
  },
  {
   "cell_type": "code",
   "execution_count": 3,
   "id": "a919dc13",
   "metadata": {},
   "outputs": [
    {
     "data": {
      "text/html": [
       "<div>\n",
       "<style scoped>\n",
       "    .dataframe tbody tr th:only-of-type {\n",
       "        vertical-align: middle;\n",
       "    }\n",
       "\n",
       "    .dataframe tbody tr th {\n",
       "        vertical-align: top;\n",
       "    }\n",
       "\n",
       "    .dataframe thead th {\n",
       "        text-align: right;\n",
       "    }\n",
       "</style>\n",
       "<table border=\"1\" class=\"dataframe\">\n",
       "  <thead>\n",
       "    <tr style=\"text-align: right;\">\n",
       "      <th></th>\n",
       "      <th>title</th>\n",
       "      <th>text</th>\n",
       "      <th>label</th>\n",
       "    </tr>\n",
       "  </thead>\n",
       "  <tbody>\n",
       "    <tr>\n",
       "      <th>0</th>\n",
       "      <td>LAW ENFORCEMENT ON HIGH ALERT Following Threat...</td>\n",
       "      <td>No comment is expected from Barack Obama Membe...</td>\n",
       "      <td>1</td>\n",
       "    </tr>\n",
       "    <tr>\n",
       "      <th>1</th>\n",
       "      <td>NaN</td>\n",
       "      <td>Did they post their votes for Hillary already?</td>\n",
       "      <td>1</td>\n",
       "    </tr>\n",
       "    <tr>\n",
       "      <th>2</th>\n",
       "      <td>UNBELIEVABLE! OBAMA’S ATTORNEY GENERAL SAYS MO...</td>\n",
       "      <td>Now, most of the demonstrators gathered last ...</td>\n",
       "      <td>1</td>\n",
       "    </tr>\n",
       "    <tr>\n",
       "      <th>3</th>\n",
       "      <td>Bobby Jindal, raised Hindu, uses story of Chri...</td>\n",
       "      <td>A dozen politically active pastors came here f...</td>\n",
       "      <td>0</td>\n",
       "    </tr>\n",
       "    <tr>\n",
       "      <th>4</th>\n",
       "      <td>SATAN 2: Russia unvelis an image of its terrif...</td>\n",
       "      <td>The RS-28 Sarmat missile, dubbed Satan 2, will...</td>\n",
       "      <td>1</td>\n",
       "    </tr>\n",
       "    <tr>\n",
       "      <th>5</th>\n",
       "      <td>About Time! Christian Group Sues Amazon and SP...</td>\n",
       "      <td>All we can say on this one is it s about time ...</td>\n",
       "      <td>1</td>\n",
       "    </tr>\n",
       "    <tr>\n",
       "      <th>6</th>\n",
       "      <td>DR BEN CARSON TARGETED BY THE IRS: “I never ha...</td>\n",
       "      <td>DR. BEN CARSON TELLS THE STORY OF WHAT HAPPENE...</td>\n",
       "      <td>1</td>\n",
       "    </tr>\n",
       "    <tr>\n",
       "      <th>7</th>\n",
       "      <td>HOUSE INTEL CHAIR On Trump-Russia Fake Story: ...</td>\n",
       "      <td></td>\n",
       "      <td>1</td>\n",
       "    </tr>\n",
       "    <tr>\n",
       "      <th>8</th>\n",
       "      <td>Sports Bar Owner Bans NFL Games…Will Show Only...</td>\n",
       "      <td>The owner of the Ringling Bar, located south o...</td>\n",
       "      <td>1</td>\n",
       "    </tr>\n",
       "    <tr>\n",
       "      <th>9</th>\n",
       "      <td>Latest Pipeline Leak Underscores Dangers Of Da...</td>\n",
       "      <td>FILE – In this Sept. 15, 2005 file photo, the ...</td>\n",
       "      <td>1</td>\n",
       "    </tr>\n",
       "  </tbody>\n",
       "</table>\n",
       "</div>"
      ],
      "text/plain": [
       "                                               title  \\\n",
       "0  LAW ENFORCEMENT ON HIGH ALERT Following Threat...   \n",
       "1                                                NaN   \n",
       "2  UNBELIEVABLE! OBAMA’S ATTORNEY GENERAL SAYS MO...   \n",
       "3  Bobby Jindal, raised Hindu, uses story of Chri...   \n",
       "4  SATAN 2: Russia unvelis an image of its terrif...   \n",
       "5  About Time! Christian Group Sues Amazon and SP...   \n",
       "6  DR BEN CARSON TARGETED BY THE IRS: “I never ha...   \n",
       "7  HOUSE INTEL CHAIR On Trump-Russia Fake Story: ...   \n",
       "8  Sports Bar Owner Bans NFL Games…Will Show Only...   \n",
       "9  Latest Pipeline Leak Underscores Dangers Of Da...   \n",
       "\n",
       "                                                text  label  \n",
       "0  No comment is expected from Barack Obama Membe...      1  \n",
       "1     Did they post their votes for Hillary already?      1  \n",
       "2   Now, most of the demonstrators gathered last ...      1  \n",
       "3  A dozen politically active pastors came here f...      0  \n",
       "4  The RS-28 Sarmat missile, dubbed Satan 2, will...      1  \n",
       "5  All we can say on this one is it s about time ...      1  \n",
       "6  DR. BEN CARSON TELLS THE STORY OF WHAT HAPPENE...      1  \n",
       "7                                                         1  \n",
       "8  The owner of the Ringling Bar, located south o...      1  \n",
       "9  FILE – In this Sept. 15, 2005 file photo, the ...      1  "
      ]
     },
     "execution_count": 3,
     "metadata": {},
     "output_type": "execute_result"
    }
   ],
   "source": [
    "#We remove the column 'Unnamed: 0' and then display the updated news dataframe\n",
    "news.drop('Unnamed: 0', axis=1, inplace=True)\n",
    "news.head(10)"
   ]
  },
  {
   "cell_type": "code",
   "execution_count": 4,
   "id": "abefbd75",
   "metadata": {},
   "outputs": [],
   "source": [
    "#We rename the column 'label' to 'True/False'\n",
    "news.rename({'label':'True/False'}, axis=1, inplace=True)"
   ]
  },
  {
   "cell_type": "code",
   "execution_count": 5,
   "id": "998a9509",
   "metadata": {},
   "outputs": [
    {
     "data": {
      "text/html": [
       "<div>\n",
       "<style scoped>\n",
       "    .dataframe tbody tr th:only-of-type {\n",
       "        vertical-align: middle;\n",
       "    }\n",
       "\n",
       "    .dataframe tbody tr th {\n",
       "        vertical-align: top;\n",
       "    }\n",
       "\n",
       "    .dataframe thead th {\n",
       "        text-align: right;\n",
       "    }\n",
       "</style>\n",
       "<table border=\"1\" class=\"dataframe\">\n",
       "  <thead>\n",
       "    <tr style=\"text-align: right;\">\n",
       "      <th></th>\n",
       "      <th>title</th>\n",
       "      <th>text</th>\n",
       "      <th>True/False</th>\n",
       "    </tr>\n",
       "  </thead>\n",
       "  <tbody>\n",
       "    <tr>\n",
       "      <th>0</th>\n",
       "      <td>LAW ENFORCEMENT ON HIGH ALERT Following Threat...</td>\n",
       "      <td>No comment is expected from Barack Obama Membe...</td>\n",
       "      <td>1</td>\n",
       "    </tr>\n",
       "    <tr>\n",
       "      <th>1</th>\n",
       "      <td>NaN</td>\n",
       "      <td>Did they post their votes for Hillary already?</td>\n",
       "      <td>1</td>\n",
       "    </tr>\n",
       "    <tr>\n",
       "      <th>2</th>\n",
       "      <td>UNBELIEVABLE! OBAMA’S ATTORNEY GENERAL SAYS MO...</td>\n",
       "      <td>Now, most of the demonstrators gathered last ...</td>\n",
       "      <td>1</td>\n",
       "    </tr>\n",
       "    <tr>\n",
       "      <th>3</th>\n",
       "      <td>Bobby Jindal, raised Hindu, uses story of Chri...</td>\n",
       "      <td>A dozen politically active pastors came here f...</td>\n",
       "      <td>0</td>\n",
       "    </tr>\n",
       "    <tr>\n",
       "      <th>4</th>\n",
       "      <td>SATAN 2: Russia unvelis an image of its terrif...</td>\n",
       "      <td>The RS-28 Sarmat missile, dubbed Satan 2, will...</td>\n",
       "      <td>1</td>\n",
       "    </tr>\n",
       "    <tr>\n",
       "      <th>5</th>\n",
       "      <td>About Time! Christian Group Sues Amazon and SP...</td>\n",
       "      <td>All we can say on this one is it s about time ...</td>\n",
       "      <td>1</td>\n",
       "    </tr>\n",
       "    <tr>\n",
       "      <th>6</th>\n",
       "      <td>DR BEN CARSON TARGETED BY THE IRS: “I never ha...</td>\n",
       "      <td>DR. BEN CARSON TELLS THE STORY OF WHAT HAPPENE...</td>\n",
       "      <td>1</td>\n",
       "    </tr>\n",
       "    <tr>\n",
       "      <th>7</th>\n",
       "      <td>HOUSE INTEL CHAIR On Trump-Russia Fake Story: ...</td>\n",
       "      <td></td>\n",
       "      <td>1</td>\n",
       "    </tr>\n",
       "    <tr>\n",
       "      <th>8</th>\n",
       "      <td>Sports Bar Owner Bans NFL Games…Will Show Only...</td>\n",
       "      <td>The owner of the Ringling Bar, located south o...</td>\n",
       "      <td>1</td>\n",
       "    </tr>\n",
       "    <tr>\n",
       "      <th>9</th>\n",
       "      <td>Latest Pipeline Leak Underscores Dangers Of Da...</td>\n",
       "      <td>FILE – In this Sept. 15, 2005 file photo, the ...</td>\n",
       "      <td>1</td>\n",
       "    </tr>\n",
       "  </tbody>\n",
       "</table>\n",
       "</div>"
      ],
      "text/plain": [
       "                                               title  \\\n",
       "0  LAW ENFORCEMENT ON HIGH ALERT Following Threat...   \n",
       "1                                                NaN   \n",
       "2  UNBELIEVABLE! OBAMA’S ATTORNEY GENERAL SAYS MO...   \n",
       "3  Bobby Jindal, raised Hindu, uses story of Chri...   \n",
       "4  SATAN 2: Russia unvelis an image of its terrif...   \n",
       "5  About Time! Christian Group Sues Amazon and SP...   \n",
       "6  DR BEN CARSON TARGETED BY THE IRS: “I never ha...   \n",
       "7  HOUSE INTEL CHAIR On Trump-Russia Fake Story: ...   \n",
       "8  Sports Bar Owner Bans NFL Games…Will Show Only...   \n",
       "9  Latest Pipeline Leak Underscores Dangers Of Da...   \n",
       "\n",
       "                                                text  True/False  \n",
       "0  No comment is expected from Barack Obama Membe...           1  \n",
       "1     Did they post their votes for Hillary already?           1  \n",
       "2   Now, most of the demonstrators gathered last ...           1  \n",
       "3  A dozen politically active pastors came here f...           0  \n",
       "4  The RS-28 Sarmat missile, dubbed Satan 2, will...           1  \n",
       "5  All we can say on this one is it s about time ...           1  \n",
       "6  DR. BEN CARSON TELLS THE STORY OF WHAT HAPPENE...           1  \n",
       "7                                                              1  \n",
       "8  The owner of the Ringling Bar, located south o...           1  \n",
       "9  FILE – In this Sept. 15, 2005 file photo, the ...           1  "
      ]
     },
     "execution_count": 5,
     "metadata": {},
     "output_type": "execute_result"
    }
   ],
   "source": [
    "news.head(10)"
   ]
  },
  {
   "cell_type": "code",
   "execution_count": 6,
   "id": "1345d76c",
   "metadata": {},
   "outputs": [
    {
     "data": {
      "text/html": [
       "<div>\n",
       "<style scoped>\n",
       "    .dataframe tbody tr th:only-of-type {\n",
       "        vertical-align: middle;\n",
       "    }\n",
       "\n",
       "    .dataframe tbody tr th {\n",
       "        vertical-align: top;\n",
       "    }\n",
       "\n",
       "    .dataframe thead th {\n",
       "        text-align: right;\n",
       "    }\n",
       "</style>\n",
       "<table border=\"1\" class=\"dataframe\">\n",
       "  <thead>\n",
       "    <tr style=\"text-align: right;\">\n",
       "      <th></th>\n",
       "      <th>title</th>\n",
       "      <th>text</th>\n",
       "      <th>True/False</th>\n",
       "    </tr>\n",
       "  </thead>\n",
       "  <tbody>\n",
       "    <tr>\n",
       "      <th>0</th>\n",
       "      <td>law enforcement on high alert following threat...</td>\n",
       "      <td>no comment is expected from barack obama membe...</td>\n",
       "      <td>1</td>\n",
       "    </tr>\n",
       "    <tr>\n",
       "      <th>1</th>\n",
       "      <td>NaN</td>\n",
       "      <td>did they post their votes for hillary already</td>\n",
       "      <td>1</td>\n",
       "    </tr>\n",
       "    <tr>\n",
       "      <th>2</th>\n",
       "      <td>unbelievable! obama’s attorney general says mo...</td>\n",
       "      <td>now most of the demonstrators gathered last n...</td>\n",
       "      <td>1</td>\n",
       "    </tr>\n",
       "    <tr>\n",
       "      <th>3</th>\n",
       "      <td>bobby jindal, raised hindu, uses story of chri...</td>\n",
       "      <td>a dozen politically active pastors came here f...</td>\n",
       "      <td>0</td>\n",
       "    </tr>\n",
       "    <tr>\n",
       "      <th>4</th>\n",
       "      <td>satan 2: russia unvelis an image of its terrif...</td>\n",
       "      <td>the rs sarmat missile dubbed satan will replac...</td>\n",
       "      <td>1</td>\n",
       "    </tr>\n",
       "    <tr>\n",
       "      <th>...</th>\n",
       "      <td>...</td>\n",
       "      <td>...</td>\n",
       "      <td>...</td>\n",
       "    </tr>\n",
       "    <tr>\n",
       "      <th>72129</th>\n",
       "      <td>russians steal research on trump in hack of u....</td>\n",
       "      <td>washington reuters hackers believed to be work...</td>\n",
       "      <td>0</td>\n",
       "    </tr>\n",
       "    <tr>\n",
       "      <th>72130</th>\n",
       "      <td>watch: giuliani demands that democrats apolog...</td>\n",
       "      <td>you know because in fantasyland republicans ne...</td>\n",
       "      <td>1</td>\n",
       "    </tr>\n",
       "    <tr>\n",
       "      <th>72131</th>\n",
       "      <td>migrants refuse to leave train at refugee camp...</td>\n",
       "      <td>migrants refuse to leave train at refugee camp...</td>\n",
       "      <td>0</td>\n",
       "    </tr>\n",
       "    <tr>\n",
       "      <th>72132</th>\n",
       "      <td>trump tussle gives unpopular mexican leader mu...</td>\n",
       "      <td>mexico city reuters donald trumps combative st...</td>\n",
       "      <td>0</td>\n",
       "    </tr>\n",
       "    <tr>\n",
       "      <th>72133</th>\n",
       "      <td>goldman sachs endorses hillary clinton for pre...</td>\n",
       "      <td>goldman sachs endorses hillary clinton for pre...</td>\n",
       "      <td>1</td>\n",
       "    </tr>\n",
       "  </tbody>\n",
       "</table>\n",
       "<p>72134 rows × 3 columns</p>\n",
       "</div>"
      ],
      "text/plain": [
       "                                                   title  \\\n",
       "0      law enforcement on high alert following threat...   \n",
       "1                                                    NaN   \n",
       "2      unbelievable! obama’s attorney general says mo...   \n",
       "3      bobby jindal, raised hindu, uses story of chri...   \n",
       "4      satan 2: russia unvelis an image of its terrif...   \n",
       "...                                                  ...   \n",
       "72129  russians steal research on trump in hack of u....   \n",
       "72130   watch: giuliani demands that democrats apolog...   \n",
       "72131  migrants refuse to leave train at refugee camp...   \n",
       "72132  trump tussle gives unpopular mexican leader mu...   \n",
       "72133  goldman sachs endorses hillary clinton for pre...   \n",
       "\n",
       "                                                    text  True/False  \n",
       "0      no comment is expected from barack obama membe...           1  \n",
       "1          did they post their votes for hillary already           1  \n",
       "2       now most of the demonstrators gathered last n...           1  \n",
       "3      a dozen politically active pastors came here f...           0  \n",
       "4      the rs sarmat missile dubbed satan will replac...           1  \n",
       "...                                                  ...         ...  \n",
       "72129  washington reuters hackers believed to be work...           0  \n",
       "72130  you know because in fantasyland republicans ne...           1  \n",
       "72131  migrants refuse to leave train at refugee camp...           0  \n",
       "72132  mexico city reuters donald trumps combative st...           0  \n",
       "72133  goldman sachs endorses hillary clinton for pre...           1  \n",
       "\n",
       "[72134 rows x 3 columns]"
      ]
     },
     "execution_count": 6,
     "metadata": {},
     "output_type": "execute_result"
    }
   ],
   "source": [
    "#Cleaning the text fields\n",
    "\n",
    "#Removing all singular letters except 'a'\n",
    "alphabet = list(string.ascii_lowercase)\n",
    "alphabet = alphabet[1:]\n",
    "\n",
    "for letter in alphabet:\n",
    "    news['text'] = news['text'].replace(' '+letter+' ', ' ', regex=True)\n",
    "\n",
    "#Removing all words with contractions\n",
    "news['text'] = news['text'].replace(' re ', ' are ', regex=True)\n",
    "news['text'] = news['text'].replace(' ve ', ' have ', regex=True)\n",
    "news['text'] = news['text'].replace(' ll ', ' will ', regex=True)\n",
    "news['text'] = news['text'].replace('[^\\w\\s]+', '', regex=True)\n",
    "\n",
    "#Removing all numbers\n",
    "news['text'] = news['text'].str.replace(r'\\d+', '',regex=True)\n",
    "\n",
    "#Removing all extra spaces\n",
    "news['text'] = news['text'].str.replace('\\s+', ' ', regex=True)\n",
    "\n",
    "#Converting all text and titles to lowercase\n",
    "news['text']=news['text'].str.lower() \n",
    "news['title'] = news['title'].str.lower()\n",
    "news"
   ]
  },
  {
   "cell_type": "code",
   "execution_count": 7,
   "id": "d221efb7",
   "metadata": {},
   "outputs": [
    {
     "data": {
      "text/html": [
       "<div>\n",
       "<style scoped>\n",
       "    .dataframe tbody tr th:only-of-type {\n",
       "        vertical-align: middle;\n",
       "    }\n",
       "\n",
       "    .dataframe tbody tr th {\n",
       "        vertical-align: top;\n",
       "    }\n",
       "\n",
       "    .dataframe thead th {\n",
       "        text-align: right;\n",
       "    }\n",
       "</style>\n",
       "<table border=\"1\" class=\"dataframe\">\n",
       "  <thead>\n",
       "    <tr style=\"text-align: right;\">\n",
       "      <th></th>\n",
       "      <th>title</th>\n",
       "      <th>text</th>\n",
       "      <th>True/False</th>\n",
       "    </tr>\n",
       "  </thead>\n",
       "  <tbody>\n",
       "    <tr>\n",
       "      <th>0</th>\n",
       "      <td>law enforcement on high alert following threat...</td>\n",
       "      <td>no comment is expected from barack obama membe...</td>\n",
       "      <td>1</td>\n",
       "    </tr>\n",
       "    <tr>\n",
       "      <th>1</th>\n",
       "      <td>NaN</td>\n",
       "      <td>did they post their votes for hillary already</td>\n",
       "      <td>1</td>\n",
       "    </tr>\n",
       "    <tr>\n",
       "      <th>2</th>\n",
       "      <td>unbelievable obamas attorney general says most...</td>\n",
       "      <td>now most of the demonstrators gathered last n...</td>\n",
       "      <td>1</td>\n",
       "    </tr>\n",
       "    <tr>\n",
       "      <th>3</th>\n",
       "      <td>bobby jindal raised hindu uses story of christ...</td>\n",
       "      <td>a dozen politically active pastors came here f...</td>\n",
       "      <td>0</td>\n",
       "    </tr>\n",
       "    <tr>\n",
       "      <th>4</th>\n",
       "      <td>satan russia unvelis an image of its terrifyin...</td>\n",
       "      <td>the rs sarmat missile dubbed satan will replac...</td>\n",
       "      <td>1</td>\n",
       "    </tr>\n",
       "    <tr>\n",
       "      <th>...</th>\n",
       "      <td>...</td>\n",
       "      <td>...</td>\n",
       "      <td>...</td>\n",
       "    </tr>\n",
       "    <tr>\n",
       "      <th>72129</th>\n",
       "      <td>russians steal research on trump in hack of us...</td>\n",
       "      <td>washington reuters hackers believed to be work...</td>\n",
       "      <td>0</td>\n",
       "    </tr>\n",
       "    <tr>\n",
       "      <th>72130</th>\n",
       "      <td>watch giuliani demands that democrats apologi...</td>\n",
       "      <td>you know because in fantasyland republicans ne...</td>\n",
       "      <td>1</td>\n",
       "    </tr>\n",
       "    <tr>\n",
       "      <th>72131</th>\n",
       "      <td>migrants refuse to leave train at refugee camp...</td>\n",
       "      <td>migrants refuse to leave train at refugee camp...</td>\n",
       "      <td>0</td>\n",
       "    </tr>\n",
       "    <tr>\n",
       "      <th>72132</th>\n",
       "      <td>trump tussle gives unpopular mexican leader mu...</td>\n",
       "      <td>mexico city reuters donald trumps combative st...</td>\n",
       "      <td>0</td>\n",
       "    </tr>\n",
       "    <tr>\n",
       "      <th>72133</th>\n",
       "      <td>goldman sachs endorses hillary clinton for pre...</td>\n",
       "      <td>goldman sachs endorses hillary clinton for pre...</td>\n",
       "      <td>1</td>\n",
       "    </tr>\n",
       "  </tbody>\n",
       "</table>\n",
       "<p>72134 rows × 3 columns</p>\n",
       "</div>"
      ],
      "text/plain": [
       "                                                   title  \\\n",
       "0      law enforcement on high alert following threat...   \n",
       "1                                                    NaN   \n",
       "2      unbelievable obamas attorney general says most...   \n",
       "3      bobby jindal raised hindu uses story of christ...   \n",
       "4      satan russia unvelis an image of its terrifyin...   \n",
       "...                                                  ...   \n",
       "72129  russians steal research on trump in hack of us...   \n",
       "72130   watch giuliani demands that democrats apologi...   \n",
       "72131  migrants refuse to leave train at refugee camp...   \n",
       "72132  trump tussle gives unpopular mexican leader mu...   \n",
       "72133  goldman sachs endorses hillary clinton for pre...   \n",
       "\n",
       "                                                    text  True/False  \n",
       "0      no comment is expected from barack obama membe...           1  \n",
       "1          did they post their votes for hillary already           1  \n",
       "2       now most of the demonstrators gathered last n...           1  \n",
       "3      a dozen politically active pastors came here f...           0  \n",
       "4      the rs sarmat missile dubbed satan will replac...           1  \n",
       "...                                                  ...         ...  \n",
       "72129  washington reuters hackers believed to be work...           0  \n",
       "72130  you know because in fantasyland republicans ne...           1  \n",
       "72131  migrants refuse to leave train at refugee camp...           0  \n",
       "72132  mexico city reuters donald trumps combative st...           0  \n",
       "72133  goldman sachs endorses hillary clinton for pre...           1  \n",
       "\n",
       "[72134 rows x 3 columns]"
      ]
     },
     "execution_count": 7,
     "metadata": {},
     "output_type": "execute_result"
    }
   ],
   "source": [
    "#Performing the same tasks for titles\n",
    "\n",
    "#Removing all singular letters except 'a'\n",
    "alphabet = list(string.ascii_lowercase)\n",
    "alphabet = alphabet[1:]\n",
    "\n",
    "for letter in alphabet:\n",
    "    news['title'] = news['title'].replace(' '+letter+' ', ' ', regex=True)\n",
    "\n",
    "#Removing all words with contractions\n",
    "news['title'] = news['title'].replace(' re ', ' are ', regex=True)\n",
    "news['title'] = news['title'].replace(' ve ', ' have ', regex=True)\n",
    "news['title'] = news['title'].replace(' ll ', ' will ', regex=True)\n",
    "news['title'] = news['title'].replace('[^\\w\\s]+', '', regex=True)\n",
    "\n",
    "#Removing all numbers\n",
    "news['title'] = news['title'].str.replace(r'\\d+', '',regex=True)\n",
    "\n",
    "#Removing all extra spaces\n",
    "news['title'] = news['title'].str.replace('\\s+',' ', regex=True)\n",
    "\n",
    "news"
   ]
  },
  {
   "cell_type": "code",
   "execution_count": 8,
   "id": "c725ce7d",
   "metadata": {},
   "outputs": [
    {
     "data": {
      "text/plain": [
       "8508"
      ]
     },
     "execution_count": 8,
     "metadata": {},
     "output_type": "execute_result"
    }
   ],
   "source": [
    "#We observe that there are 8508 news that are duplicated, hence we will be dropping them.\n",
    "news.duplicated().sum()"
   ]
  },
  {
   "cell_type": "code",
   "execution_count": 9,
   "id": "9243c099",
   "metadata": {},
   "outputs": [
    {
     "name": "stdout",
     "output_type": "stream",
     "text": [
      "Before removing:\n"
     ]
    },
    {
     "data": {
      "text/html": [
       "<div>\n",
       "<style scoped>\n",
       "    .dataframe tbody tr th:only-of-type {\n",
       "        vertical-align: middle;\n",
       "    }\n",
       "\n",
       "    .dataframe tbody tr th {\n",
       "        vertical-align: top;\n",
       "    }\n",
       "\n",
       "    .dataframe thead th {\n",
       "        text-align: right;\n",
       "    }\n",
       "</style>\n",
       "<table border=\"1\" class=\"dataframe\">\n",
       "  <thead>\n",
       "    <tr style=\"text-align: right;\">\n",
       "      <th></th>\n",
       "      <th>True/False</th>\n",
       "    </tr>\n",
       "  </thead>\n",
       "  <tbody>\n",
       "    <tr>\n",
       "      <th>count</th>\n",
       "      <td>72134.000000</td>\n",
       "    </tr>\n",
       "    <tr>\n",
       "      <th>mean</th>\n",
       "      <td>0.514404</td>\n",
       "    </tr>\n",
       "    <tr>\n",
       "      <th>std</th>\n",
       "      <td>0.499796</td>\n",
       "    </tr>\n",
       "    <tr>\n",
       "      <th>min</th>\n",
       "      <td>0.000000</td>\n",
       "    </tr>\n",
       "    <tr>\n",
       "      <th>25%</th>\n",
       "      <td>0.000000</td>\n",
       "    </tr>\n",
       "    <tr>\n",
       "      <th>50%</th>\n",
       "      <td>1.000000</td>\n",
       "    </tr>\n",
       "    <tr>\n",
       "      <th>75%</th>\n",
       "      <td>1.000000</td>\n",
       "    </tr>\n",
       "    <tr>\n",
       "      <th>max</th>\n",
       "      <td>1.000000</td>\n",
       "    </tr>\n",
       "  </tbody>\n",
       "</table>\n",
       "</div>"
      ],
      "text/plain": [
       "         True/False\n",
       "count  72134.000000\n",
       "mean       0.514404\n",
       "std        0.499796\n",
       "min        0.000000\n",
       "25%        0.000000\n",
       "50%        1.000000\n",
       "75%        1.000000\n",
       "max        1.000000"
      ]
     },
     "execution_count": 9,
     "metadata": {},
     "output_type": "execute_result"
    }
   ],
   "source": [
    "print(\"Before removing:\")\n",
    "news.describe()"
   ]
  },
  {
   "cell_type": "code",
   "execution_count": 10,
   "id": "814d70dd",
   "metadata": {},
   "outputs": [
    {
     "name": "stdout",
     "output_type": "stream",
     "text": [
      "After removing:\n"
     ]
    },
    {
     "data": {
      "text/html": [
       "<div>\n",
       "<style scoped>\n",
       "    .dataframe tbody tr th:only-of-type {\n",
       "        vertical-align: middle;\n",
       "    }\n",
       "\n",
       "    .dataframe tbody tr th {\n",
       "        vertical-align: top;\n",
       "    }\n",
       "\n",
       "    .dataframe thead th {\n",
       "        text-align: right;\n",
       "    }\n",
       "</style>\n",
       "<table border=\"1\" class=\"dataframe\">\n",
       "  <thead>\n",
       "    <tr style=\"text-align: right;\">\n",
       "      <th></th>\n",
       "      <th>True/False</th>\n",
       "    </tr>\n",
       "  </thead>\n",
       "  <tbody>\n",
       "    <tr>\n",
       "      <th>count</th>\n",
       "      <td>63626.000000</td>\n",
       "    </tr>\n",
       "    <tr>\n",
       "      <th>mean</th>\n",
       "      <td>0.453557</td>\n",
       "    </tr>\n",
       "    <tr>\n",
       "      <th>std</th>\n",
       "      <td>0.497842</td>\n",
       "    </tr>\n",
       "    <tr>\n",
       "      <th>min</th>\n",
       "      <td>0.000000</td>\n",
       "    </tr>\n",
       "    <tr>\n",
       "      <th>25%</th>\n",
       "      <td>0.000000</td>\n",
       "    </tr>\n",
       "    <tr>\n",
       "      <th>50%</th>\n",
       "      <td>0.000000</td>\n",
       "    </tr>\n",
       "    <tr>\n",
       "      <th>75%</th>\n",
       "      <td>1.000000</td>\n",
       "    </tr>\n",
       "    <tr>\n",
       "      <th>max</th>\n",
       "      <td>1.000000</td>\n",
       "    </tr>\n",
       "  </tbody>\n",
       "</table>\n",
       "</div>"
      ],
      "text/plain": [
       "         True/False\n",
       "count  63626.000000\n",
       "mean       0.453557\n",
       "std        0.497842\n",
       "min        0.000000\n",
       "25%        0.000000\n",
       "50%        0.000000\n",
       "75%        1.000000\n",
       "max        1.000000"
      ]
     },
     "execution_count": 10,
     "metadata": {},
     "output_type": "execute_result"
    }
   ],
   "source": [
    "#We drop the duplicate rows from the dataframe and return the new updated dataframe\n",
    "news.drop_duplicates(inplace=True)\n",
    "print(\"After removing:\")\n",
    "news.describe()"
   ]
  },
  {
   "cell_type": "code",
   "execution_count": 11,
   "id": "f7ab8585",
   "metadata": {},
   "outputs": [
    {
     "data": {
      "text/plain": [
       "518"
      ]
     },
     "execution_count": 11,
     "metadata": {},
     "output_type": "execute_result"
    }
   ],
   "source": [
    "#We observe that there are 518 titles.\n",
    "news['title'].isnull().sum()"
   ]
  },
  {
   "cell_type": "code",
   "execution_count": 12,
   "id": "599a64b3",
   "metadata": {},
   "outputs": [
    {
     "data": {
      "text/plain": [
       "39"
      ]
     },
     "execution_count": 12,
     "metadata": {},
     "output_type": "execute_result"
    }
   ],
   "source": [
    "#We observe that there are 39 text.\n",
    "news['text'].isnull().sum()"
   ]
  },
  {
   "cell_type": "code",
   "execution_count": 13,
   "id": "9d1e7ab2",
   "metadata": {},
   "outputs": [
    {
     "name": "stdout",
     "output_type": "stream",
     "text": [
      "Before removing:\n"
     ]
    },
    {
     "data": {
      "text/html": [
       "<div>\n",
       "<style scoped>\n",
       "    .dataframe tbody tr th:only-of-type {\n",
       "        vertical-align: middle;\n",
       "    }\n",
       "\n",
       "    .dataframe tbody tr th {\n",
       "        vertical-align: top;\n",
       "    }\n",
       "\n",
       "    .dataframe thead th {\n",
       "        text-align: right;\n",
       "    }\n",
       "</style>\n",
       "<table border=\"1\" class=\"dataframe\">\n",
       "  <thead>\n",
       "    <tr style=\"text-align: right;\">\n",
       "      <th></th>\n",
       "      <th>True/False</th>\n",
       "    </tr>\n",
       "  </thead>\n",
       "  <tbody>\n",
       "    <tr>\n",
       "      <th>count</th>\n",
       "      <td>63626.000000</td>\n",
       "    </tr>\n",
       "    <tr>\n",
       "      <th>mean</th>\n",
       "      <td>0.453557</td>\n",
       "    </tr>\n",
       "    <tr>\n",
       "      <th>std</th>\n",
       "      <td>0.497842</td>\n",
       "    </tr>\n",
       "    <tr>\n",
       "      <th>min</th>\n",
       "      <td>0.000000</td>\n",
       "    </tr>\n",
       "    <tr>\n",
       "      <th>25%</th>\n",
       "      <td>0.000000</td>\n",
       "    </tr>\n",
       "    <tr>\n",
       "      <th>50%</th>\n",
       "      <td>0.000000</td>\n",
       "    </tr>\n",
       "    <tr>\n",
       "      <th>75%</th>\n",
       "      <td>1.000000</td>\n",
       "    </tr>\n",
       "    <tr>\n",
       "      <th>max</th>\n",
       "      <td>1.000000</td>\n",
       "    </tr>\n",
       "  </tbody>\n",
       "</table>\n",
       "</div>"
      ],
      "text/plain": [
       "         True/False\n",
       "count  63626.000000\n",
       "mean       0.453557\n",
       "std        0.497842\n",
       "min        0.000000\n",
       "25%        0.000000\n",
       "50%        0.000000\n",
       "75%        1.000000\n",
       "max        1.000000"
      ]
     },
     "execution_count": 13,
     "metadata": {},
     "output_type": "execute_result"
    }
   ],
   "source": [
    "print(\"Before removing:\")\n",
    "news.describe()"
   ]
  },
  {
   "cell_type": "code",
   "execution_count": 14,
   "id": "d71767f4",
   "metadata": {},
   "outputs": [],
   "source": [
    "#We create an updated news dataframe by only selecting the rows where the title column is not null or NaN\n",
    "news = news[news['title'].notna()]"
   ]
  },
  {
   "cell_type": "code",
   "execution_count": 15,
   "id": "f74d7f79",
   "metadata": {},
   "outputs": [],
   "source": [
    "#We create an updated news dataframe by only selecting the rows where the text column is not null or NaN\n",
    "news = news[news['text'].notna()]"
   ]
  },
  {
   "cell_type": "code",
   "execution_count": 16,
   "id": "c90bb90d",
   "metadata": {},
   "outputs": [
    {
     "name": "stdout",
     "output_type": "stream",
     "text": [
      "After removing:\n"
     ]
    },
    {
     "data": {
      "text/html": [
       "<div>\n",
       "<style scoped>\n",
       "    .dataframe tbody tr th:only-of-type {\n",
       "        vertical-align: middle;\n",
       "    }\n",
       "\n",
       "    .dataframe tbody tr th {\n",
       "        vertical-align: top;\n",
       "    }\n",
       "\n",
       "    .dataframe thead th {\n",
       "        text-align: right;\n",
       "    }\n",
       "</style>\n",
       "<table border=\"1\" class=\"dataframe\">\n",
       "  <thead>\n",
       "    <tr style=\"text-align: right;\">\n",
       "      <th></th>\n",
       "      <th>True/False</th>\n",
       "    </tr>\n",
       "  </thead>\n",
       "  <tbody>\n",
       "    <tr>\n",
       "      <th>count</th>\n",
       "      <td>63069.000000</td>\n",
       "    </tr>\n",
       "    <tr>\n",
       "      <th>mean</th>\n",
       "      <td>0.448731</td>\n",
       "    </tr>\n",
       "    <tr>\n",
       "      <th>std</th>\n",
       "      <td>0.497368</td>\n",
       "    </tr>\n",
       "    <tr>\n",
       "      <th>min</th>\n",
       "      <td>0.000000</td>\n",
       "    </tr>\n",
       "    <tr>\n",
       "      <th>25%</th>\n",
       "      <td>0.000000</td>\n",
       "    </tr>\n",
       "    <tr>\n",
       "      <th>50%</th>\n",
       "      <td>0.000000</td>\n",
       "    </tr>\n",
       "    <tr>\n",
       "      <th>75%</th>\n",
       "      <td>1.000000</td>\n",
       "    </tr>\n",
       "    <tr>\n",
       "      <th>max</th>\n",
       "      <td>1.000000</td>\n",
       "    </tr>\n",
       "  </tbody>\n",
       "</table>\n",
       "</div>"
      ],
      "text/plain": [
       "         True/False\n",
       "count  63069.000000\n",
       "mean       0.448731\n",
       "std        0.497368\n",
       "min        0.000000\n",
       "25%        0.000000\n",
       "50%        0.000000\n",
       "75%        1.000000\n",
       "max        1.000000"
      ]
     },
     "execution_count": 16,
     "metadata": {},
     "output_type": "execute_result"
    }
   ],
   "source": [
    "print(\"After removing:\")\n",
    "news.describe()"
   ]
  },
  {
   "cell_type": "code",
   "execution_count": 17,
   "id": "e99868fb",
   "metadata": {},
   "outputs": [
    {
     "data": {
      "text/html": [
       "<div>\n",
       "<style scoped>\n",
       "    .dataframe tbody tr th:only-of-type {\n",
       "        vertical-align: middle;\n",
       "    }\n",
       "\n",
       "    .dataframe tbody tr th {\n",
       "        vertical-align: top;\n",
       "    }\n",
       "\n",
       "    .dataframe thead th {\n",
       "        text-align: right;\n",
       "    }\n",
       "</style>\n",
       "<table border=\"1\" class=\"dataframe\">\n",
       "  <thead>\n",
       "    <tr style=\"text-align: right;\">\n",
       "      <th></th>\n",
       "      <th>title</th>\n",
       "      <th>text</th>\n",
       "      <th>True/False</th>\n",
       "    </tr>\n",
       "  </thead>\n",
       "  <tbody>\n",
       "    <tr>\n",
       "      <th>0</th>\n",
       "      <td>law enforcement on high alert following threat...</td>\n",
       "      <td>no comment is expected from barack obama membe...</td>\n",
       "      <td>1</td>\n",
       "    </tr>\n",
       "    <tr>\n",
       "      <th>2</th>\n",
       "      <td>unbelievable obamas attorney general says most...</td>\n",
       "      <td>now most of the demonstrators gathered last n...</td>\n",
       "      <td>1</td>\n",
       "    </tr>\n",
       "    <tr>\n",
       "      <th>3</th>\n",
       "      <td>bobby jindal raised hindu uses story of christ...</td>\n",
       "      <td>a dozen politically active pastors came here f...</td>\n",
       "      <td>0</td>\n",
       "    </tr>\n",
       "    <tr>\n",
       "      <th>4</th>\n",
       "      <td>satan russia unvelis an image of its terrifyin...</td>\n",
       "      <td>the rs sarmat missile dubbed satan will replac...</td>\n",
       "      <td>1</td>\n",
       "    </tr>\n",
       "    <tr>\n",
       "      <th>5</th>\n",
       "      <td>about time christian group sues amazon and spl...</td>\n",
       "      <td>all we can say on this one is it about time so...</td>\n",
       "      <td>1</td>\n",
       "    </tr>\n",
       "    <tr>\n",
       "      <th>6</th>\n",
       "      <td>dr ben carson targeted by the irs i never had ...</td>\n",
       "      <td>dr ben carson tells the story of what happened...</td>\n",
       "      <td>1</td>\n",
       "    </tr>\n",
       "    <tr>\n",
       "      <th>7</th>\n",
       "      <td>house intel chair on trumprussia fake story no...</td>\n",
       "      <td></td>\n",
       "      <td>1</td>\n",
       "    </tr>\n",
       "    <tr>\n",
       "      <th>8</th>\n",
       "      <td>sports bar owner bans nfl gameswill show only ...</td>\n",
       "      <td>the owner of the ringling bar located south of...</td>\n",
       "      <td>1</td>\n",
       "    </tr>\n",
       "    <tr>\n",
       "      <th>9</th>\n",
       "      <td>latest pipeline leak underscores dangers of da...</td>\n",
       "      <td>file in this sept file photo the marker that w...</td>\n",
       "      <td>1</td>\n",
       "    </tr>\n",
       "    <tr>\n",
       "      <th>10</th>\n",
       "      <td>gop senator just smacked down the most puncha...</td>\n",
       "      <td>the most punchable altright nazi on the intern...</td>\n",
       "      <td>1</td>\n",
       "    </tr>\n",
       "  </tbody>\n",
       "</table>\n",
       "</div>"
      ],
      "text/plain": [
       "                                                title  \\\n",
       "0   law enforcement on high alert following threat...   \n",
       "2   unbelievable obamas attorney general says most...   \n",
       "3   bobby jindal raised hindu uses story of christ...   \n",
       "4   satan russia unvelis an image of its terrifyin...   \n",
       "5   about time christian group sues amazon and spl...   \n",
       "6   dr ben carson targeted by the irs i never had ...   \n",
       "7   house intel chair on trumprussia fake story no...   \n",
       "8   sports bar owner bans nfl gameswill show only ...   \n",
       "9   latest pipeline leak underscores dangers of da...   \n",
       "10   gop senator just smacked down the most puncha...   \n",
       "\n",
       "                                                 text  True/False  \n",
       "0   no comment is expected from barack obama membe...           1  \n",
       "2    now most of the demonstrators gathered last n...           1  \n",
       "3   a dozen politically active pastors came here f...           0  \n",
       "4   the rs sarmat missile dubbed satan will replac...           1  \n",
       "5   all we can say on this one is it about time so...           1  \n",
       "6   dr ben carson tells the story of what happened...           1  \n",
       "7                                                               1  \n",
       "8   the owner of the ringling bar located south of...           1  \n",
       "9   file in this sept file photo the marker that w...           1  \n",
       "10  the most punchable altright nazi on the intern...           1  "
      ]
     },
     "execution_count": 17,
     "metadata": {},
     "output_type": "execute_result"
    }
   ],
   "source": [
    "news.head(10)"
   ]
  },
  {
   "cell_type": "code",
   "execution_count": 18,
   "id": "46d03277",
   "metadata": {},
   "outputs": [],
   "source": [
    "#This code writes the current state of the \"news\" DataFrame\n",
    "#to a CSV file named \"news_updated_v2.csv\" in the current working directory.\n",
    "news.to_csv('news_updated_v2.csv', index=False)"
   ]
  },
  {
   "cell_type": "code",
   "execution_count": 19,
   "id": "4605f714",
   "metadata": {},
   "outputs": [],
   "source": [
    "# Load the data\n",
    "news_data = pd.read_csv('news_updated_v2.csv')\n",
    "new_news_data = news_data.loc[:, ['text', 'True/False']]\n",
    "new_news_data_2 = news_data.loc[:, ['title', 'True/False']]"
   ]
  },
  {
   "cell_type": "code",
   "execution_count": 20,
   "id": "1a2f2413",
   "metadata": {},
   "outputs": [],
   "source": [
    "#updates the dataframe 'new_news_data_2' by selecting only the rows where the \"title\" column is not null.\n",
    "new_news_data_2 = new_news_data_2[new_news_data_2['title'].notna()]"
   ]
  },
  {
   "cell_type": "code",
   "execution_count": 21,
   "id": "219df5bc",
   "metadata": {},
   "outputs": [],
   "source": [
    "#imports necessary libraries and modules to build a machine learning model.\n",
    "import xgboost as xgb\n",
    "import pickle\n",
    "from sklearn.model_selection import train_test_split\n",
    "from sklearn.feature_extraction.text import TfidfVectorizer\n",
    "from sklearn.metrics import accuracy_score, confusion_matrix"
   ]
  },
  {
   "cell_type": "code",
   "execution_count": 22,
   "id": "0260536d",
   "metadata": {},
   "outputs": [],
   "source": [
    "#we open the file 'news_classifier_text' with the pickle model\n",
    "with open('news_classifier_text.pkl', 'rb') as f:\n",
    "    model = pickle.load(f)"
   ]
  },
  {
   "cell_type": "code",
   "execution_count": 23,
   "id": "9eb2de87",
   "metadata": {},
   "outputs": [],
   "source": [
    "# Separate the text (X) and labels (y)\n",
    "X = new_news_data['text']\n",
    "y = new_news_data['True/False']\n",
    "\n",
    "# Vectorize the text using TF-IDF\n",
    "tfidf = TfidfVectorizer(max_features=50)\n",
    "X_test_tfidf = tfidf.fit_transform(X)"
   ]
  },
  {
   "cell_type": "code",
   "execution_count": 24,
   "id": "67932cb9",
   "metadata": {},
   "outputs": [
    {
     "name": "stdout",
     "output_type": "stream",
     "text": [
      "Accuracy: 0.22424646022610156\n"
     ]
    }
   ],
   "source": [
    "# Make predictions on the test set\n",
    "y_pred = model.predict(X_test_tfidf)\n",
    "\n",
    "# Calculate the accuracy and confusion matrix\n",
    "accuracy = accuracy_score(y, y_pred)\n",
    "confusion = confusion_matrix(y, y_pred)\n",
    "print('Accuracy:', accuracy)"
   ]
  },
  {
   "cell_type": "markdown",
   "id": "c8f340f7",
   "metadata": {},
   "source": [
    "The accuracy is incredibly low since the model only predicts around 1 in 4 samples correctly.\n",
    "<br>\n",
    "<br>\n",
    "One possible reason for this is an imbalance in the classifications for the training data set. If there is an unconscious bias in the data that is fed to the model then it is possible that the model also incorporates this bias when running on the test dataset. Another reason could be the number of max_features used. If we increase this we may increase the accuracy but there is a risk of overfitting the data which means we would get an inflated accuracy value."
   ]
  },
  {
   "cell_type": "code",
   "execution_count": 25,
   "id": "99112929",
   "metadata": {},
   "outputs": [
    {
     "data": {
      "image/png": "[encoded data removed]",
      "text/plain": [
       "<Figure size 640x480 with 2 Axes>"
      ]
     },
     "metadata": {},
     "output_type": "display_data"
    }
   ],
   "source": [
    "#generate a heatmap based off the confusion matrix \n",
    "sb.heatmap(confusion, annot=True, cmap='Blues', fmt='d')\n",
    "plt.title('Confusion Matrix for XGBoost (Text)')\n",
    "plt.xlabel('Predicted')\n",
    "plt.ylabel('Actual')\n",
    "plt.show()"
   ]
  },
  {
   "cell_type": "code",
   "execution_count": 26,
   "id": "9f3e8fb0",
   "metadata": {},
   "outputs": [],
   "source": [
    "#load the file 'news_classifier_title' with the pickle model\n",
    "with open('news_classifier_title.pkl', 'rb') as f:\n",
    "    model = pickle.load(f)"
   ]
  },
  {
   "cell_type": "code",
   "execution_count": 27,
   "id": "f32571f1",
   "metadata": {},
   "outputs": [],
   "source": [
    "# Separate the title (X) and labels (y)\n",
    "X = new_news_data_2['title']\n",
    "y = new_news_data_2['True/False']\n",
    "# Vectorize the text using TF-IDF\n",
    "tfidf = TfidfVectorizer(max_features=50)\n",
    "X_test_tfidf = tfidf.fit_transform(X)"
   ]
  },
  {
   "cell_type": "code",
   "execution_count": 28,
   "id": "23ba24c4",
   "metadata": {},
   "outputs": [
    {
     "name": "stdout",
     "output_type": "stream",
     "text": [
      "Accuracy: 0.4626752077123105\n"
     ]
    }
   ],
   "source": [
    "# Make predictions on the test set\n",
    "y_pred = model.predict(X_test_tfidf)\n",
    "\n",
    "# Calculate the accuracy and confusion matrix\n",
    "accuracy = accuracy_score(y, y_pred)\n",
    "confusion = confusion_matrix(y, y_pred)\n",
    "print('Accuracy:', accuracy)"
   ]
  },
  {
   "cell_type": "markdown",
   "id": "625c83e1",
   "metadata": {},
   "source": [
    "This accuracy is higher than the previous pickled model. There are many possible reasons for this. Some include:\n",
    "<br>\n",
    "1) The title of an article may contain more informative words that can help to identify the sentiment of the article as compared to the text\n",
    "<br>\n",
    "2) The title is more concise and has less filler words or 'noise' that may confuse the model as compared to the text\n",
    "<br>\n",
    "3) Text is more complex and has many moods and nuances as compared to the title which makes it more difficult to capture the sentiment."
   ]
  },
  {
   "cell_type": "code",
   "execution_count": 29,
   "id": "0e4f418e",
   "metadata": {},
   "outputs": [
    {
     "data": {
      "image/png": "[encoded data removed]",
      "text/plain": [
       "<Figure size 640x480 with 2 Axes>"
      ]
     },
     "metadata": {},
     "output_type": "display_data"
    }
   ],
   "source": [
    "#generate a heatmap from the confusion matrix \n",
    "sb.heatmap(confusion, annot=True, cmap='Blues', fmt='d')\n",
    "plt.title('Confusion Matrix for XGBoost (Title)')\n",
    "plt.xlabel('Predicted')\n",
    "plt.ylabel('Actual')\n",
    "plt.show()"
   ]
  },
  {
   "cell_type": "code",
   "execution_count": 30,
   "id": "0f22b53e",
   "metadata": {},
   "outputs": [],
   "source": [
    "#mports necessary libraries and modules for building a neural network using Keras with TensorFlow backend\n",
    "import tensorflow as tf\n",
    "tf.keras.backend.set_image_data_format(\"channels_last\")\n",
    "from keras.models import load_model\n",
    "from keras.models import Sequential\n",
    "from keras.layers import Dense, Embedding, LSTM, Dropout\n",
    "from keras.preprocessing.text import Tokenizer\n",
    "from tensorflow.keras.preprocessing.sequence import pad_sequences\n",
    "from sklearn.model_selection import train_test_split\n",
    "from sklearn.metrics import accuracy_score"
   ]
  },
  {
   "cell_type": "code",
   "execution_count": 31,
   "id": "26efa0eb",
   "metadata": {},
   "outputs": [],
   "source": [
    "# Tokenize text\n",
    "tokenizer = Tokenizer(num_words=50)\n",
    "tokenizer.fit_on_texts(new_news_data)\n",
    "X_test = tokenizer.texts_to_sequences(new_news_data['text'])\n",
    "y_test = new_news_data['True/False']\n",
    "\n",
    "# Pad sequences\n",
    "X_test = pad_sequences(X_test, maxlen=1000)\n",
    "\n",
    "# Define model\n",
    "model = Sequential()\n",
    "model.add(Embedding(input_dim=50, output_dim=64, input_length=1000))\n",
    "model.add(LSTM(units=64, dropout=0.2, recurrent_dropout=0.2))\n",
    "model.add(Dense(units=1, activation='sigmoid'))\n",
    "\n",
    "# Compile model\n",
    "model.compile(loss='binary_crossentropy', optimizer='adam', metrics=['accuracy'])"
   ]
  },
  {
   "cell_type": "code",
   "execution_count": 32,
   "id": "f37afb1d",
   "metadata": {},
   "outputs": [
    {
     "name": "stdout",
     "output_type": "stream",
     "text": [
      "Model: \"sequential_2\"\n",
      "_________________________________________________________________\n",
      " Layer (type)                Output Shape              Param #   \n",
      "=================================================================\n",
      " embedding_2 (Embedding)     (None, 1000, 64)          3200      \n",
      "                                                                 \n",
      " lstm_2 (LSTM)               (None, 64)                33024     \n",
      "                                                                 \n",
      " dense_2 (Dense)             (None, 1)                 65        \n",
      "                                                                 \n",
      "=================================================================\n",
      "Total params: 36,289\n",
      "Trainable params: 36,289\n",
      "Non-trainable params: 0\n",
      "_________________________________________________________________\n"
     ]
    }
   ],
   "source": [
    "#loads a saved Keras model from a file named \"news_classifier_text.h5\" using the load_model function from Keras\n",
    "model = load_model('news_classifier_text.h5')\n",
    "model.summary()"
   ]
  },
  {
   "cell_type": "code",
   "execution_count": 33,
   "id": "a8880208",
   "metadata": {},
   "outputs": [
    {
     "name": "stdout",
     "output_type": "stream",
     "text": [
      "1971/1971 [==============================] - 570s 287ms/step\n",
      "Accuracy: 0.5514436569471531\n"
     ]
    }
   ],
   "source": [
    "# Test model\n",
    "y_pred = model.predict(X_test)\n",
    "y_pred_binary = (y_pred >= 0.5).astype(int)\n",
    "print('Accuracy:', accuracy_score(y_test, y_pred_binary))"
   ]
  },
  {
   "cell_type": "markdown",
   "id": "20ef0ac1",
   "metadata": {},
   "source": [
    "Again, this is quite a low accuracy but it is a step up from before. \n",
    "<br>\n",
    "<br>\n",
    "There are several possible reasons for the inaccuracy. Some include:\n",
    "<br>\n",
    "1) Insufficient and/or biased training data: The model might be overfitting to the training data and not capturing the underlying patterns of the problem.\n",
    "<br>\n",
    "2) Hyperparameter tuning: The model hyperparameters (e.g., learning rate, batch size, number of epochs) might not be properly tuned.\n",
    "<br> \n",
    "3) Inappropriate model architecture: Overly simple models, for example, may not capture complexity whereas complex models may overfit"
   ]
  },
  {
   "cell_type": "code",
   "execution_count": 34,
   "id": "8a9548da",
   "metadata": {},
   "outputs": [
    {
     "data": {
      "image/png": "[encoded data removed]",
      "text/plain": [
       "<Figure size 640x480 with 2 Axes>"
      ]
     },
     "metadata": {},
     "output_type": "display_data"
    }
   ],
   "source": [
    "#generate a heatmap based off the confusion matrix\n",
    "confusion = confusion_matrix(y_test,y_pred_binary)\n",
    "sb.heatmap(confusion, annot=True, cmap='Blues', fmt='d')\n",
    "plt.title('Confusion Matrix for Keras (Text)')\n",
    "plt.xlabel('Predicted')\n",
    "plt.ylabel('Actual')\n",
    "plt.show()"
   ]
  },
  {
   "cell_type": "code",
   "execution_count": 35,
   "id": "02b4ab0a",
   "metadata": {},
   "outputs": [],
   "source": [
    "# Tokenize text\n",
    "tokenizer = Tokenizer(num_words=50)\n",
    "tokenizer.fit_on_texts(new_news_data_2)\n",
    "X_test = tokenizer.texts_to_sequences(new_news_data_2['title'])\n",
    "y_test = new_news_data_2['True/False']\n",
    "\n",
    "# Pad sequences\n",
    "X_test = pad_sequences(X_test, maxlen=100)\n",
    "\n",
    "# Define model\n",
    "model = Sequential()\n",
    "model.add(Embedding(input_dim=50, output_dim=64, input_length=100))\n",
    "model.add(LSTM(units=64, dropout=0.2, recurrent_dropout=0.2))\n",
    "model.add(Dense(units=1, activation='sigmoid'))\n",
    "\n",
    "# Compile model\n",
    "model.compile(loss='binary_crossentropy', optimizer='adam', metrics=['accuracy'])"
   ]
  },
  {
   "cell_type": "code",
   "execution_count": 36,
   "id": "bb11eef8",
   "metadata": {},
   "outputs": [
    {
     "name": "stdout",
     "output_type": "stream",
     "text": [
      "Model: \"sequential_1\"\n",
      "_________________________________________________________________\n",
      " Layer (type)                Output Shape              Param #   \n",
      "=================================================================\n",
      " embedding_1 (Embedding)     (None, 100, 64)           3200      \n",
      "                                                                 \n",
      " lstm_1 (LSTM)               (None, 64)                33024     \n",
      "                                                                 \n",
      " dense_1 (Dense)             (None, 1)                 65        \n",
      "                                                                 \n",
      "=================================================================\n",
      "Total params: 36,289\n",
      "Trainable params: 36,289\n",
      "Non-trainable params: 0\n",
      "_________________________________________________________________\n"
     ]
    }
   ],
   "source": [
    "##loads a saved Keras model from a file named \"news_classifier_title.h5\" using the load_model function from Keras\n",
    "model = load_model('news_classifier_title.h5')\n",
    "model.summary()"
   ]
  },
  {
   "cell_type": "code",
   "execution_count": 37,
   "id": "8c18ed44",
   "metadata": {},
   "outputs": [
    {
     "name": "stdout",
     "output_type": "stream",
     "text": [
      "1971/1971 [==============================] - 45s 22ms/step\n",
      "Accuracy: 0.44872201433373504\n"
     ]
    }
   ],
   "source": [
    "# Test model\n",
    "y_pred = model.predict(X_test)\n",
    "y_pred_binary = (y_pred >= 0.5).astype(int)\n",
    "print('Accuracy:', accuracy_score(y_test, y_pred_binary))"
   ]
  },
  {
   "cell_type": "markdown",
   "id": "b66dabda",
   "metadata": {},
   "source": [
    "There is a negligible decrease in accuracy from the previous 'title' model when compared to this. This means 'title' is a bit less accurate as a predictor variable in this model. The speculated issues are still mostly the same. Due to the complexity of the models used it is a bit difficult to pinpoint the exact reasons why the accuracy may be so low but there are a host of reasons one can try to work with in order to improve the model."
   ]
  },
  {
   "cell_type": "code",
   "execution_count": 38,
   "id": "0f1a8d2d",
   "metadata": {},
   "outputs": [
    {
     "data": {
      "image/png": "[encoded data removed]",
      "text/plain": [
       "<Figure size 640x480 with 2 Axes>"
      ]
     },
     "metadata": {},
     "output_type": "display_data"
    }
   ],
   "source": [
    "#create heatmap from confusion matrix\n",
    "confusion = confusion_matrix(y_test,y_pred_binary)\n",
    "sb.heatmap(confusion, annot=True, cmap='Blues', fmt='d')\n",
    "plt.title('Confusion Matrix for Keras (Title)')\n",
    "plt.xlabel('Predicted')\n",
    "plt.ylabel('Actual')\n",
    "plt.show()"
   ]
  },
  {
   "cell_type": "code",
   "execution_count": null,
   "id": "64f27564",
   "metadata": {},
   "outputs": [],
   "source": []
  }
 ],
 "metadata": {
  "kernelspec": {
   "display_name": "Python 3 (ipykernel)",
   "language": "python",
   "name": "python3"
  },
  "language_info": {
   "codemirror_mode": {
    "name": "ipython",
    "version": 3
   },
   "file_extension": ".py",
   "mimetype": "text/x-python",
   "name": "python",
   "nbconvert_exporter": "python",
   "pygments_lexer": "ipython3",
   "version": "3.9.13"
  }
 },
 "nbformat": 4,
 "nbformat_minor": 5
}
